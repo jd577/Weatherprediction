{
  "nbformat": 4,
  "nbformat_minor": 0,
  "metadata": {
    "colab": {
      "provenance": []
    },
    "kernelspec": {
      "name": "python3",
      "display_name": "Python 3"
    },
    "language_info": {
      "name": "python"
    }
  },
  "cells": [
    {
      "cell_type": "code",
      "execution_count": 6,
      "metadata": {
        "id": "LNOrFqP_c3Tz"
      },
      "outputs": [],
      "source": [
        "import numpy as np\n",
        "import pandas as pd\n",
        "import matplotlib.pyplot as plt\n",
        "import seaborn as sns\n",
        "from sklearn.model_selection import train_test_split\n",
        "from sklearn.ensemble import RandomForestRegressor\n",
        "from sklearn.metrics import mean_absolute_error, mean_squared_error\n",
        "from statsmodels.tsa.statespace.sarimax import SARIMAX\n",
        "\n",
        "# Load the dataset\n",
        "df = pd.read_csv(\"home_temperature_and_humidity_smoothed_filled.csv\")\n",
        "df['timestamp'] = pd.to_datetime(df['timestamp'])\n",
        "df.set_index('timestamp', inplace=True)\n",
        "\n",
        "def create_features(df):\n",
        "    df = df.copy()\n",
        "    df['hour'] = df.index.hour\n",
        "    df['dayofweek'] = df.index.dayofweek\n",
        "    df['quarter'] = df.index.quarter\n",
        "    df['month'] = df.index.month\n",
        "    df['year'] = df.index.year\n",
        "    df['dayofyear'] = df.index.dayofyear\n",
        "    df['dayofmonth'] = df.index.day\n",
        "    df['weekofyear'] = df.index.isocalendar().week\n",
        "    return df\n",
        "\n",
        "df = create_features(df)\n",
        "\n",
        "# Creating lag features for temperature and humidity of interest\n",
        "df['temp_lag1'] = df['temperature_exterieur'].shift(1)\n",
        "df['temp_lag2'] = df['temperature_exterieur'].shift(2)\n",
        "df['humidity_lag1'] = df['humidity_exterieur'].shift(1)\n",
        "df['humidity_lag2'] = df['humidity_exterieur'].shift(2)\n",
        "\n",
        "df.dropna(inplace=True)\n"
      ]
    },
    {
      "cell_type": "code",
      "source": [
        "# Define features and target\n",
        "features = ['temp_lag1', 'temp_lag2', 'humidity_lag1', 'humidity_lag2', 'hour', 'dayofweek', 'month', 'year', 'dayofyear', 'dayofmonth', 'weekofyear']\n",
        "target_temp = 'temperature_exterieur'\n",
        "target_humidity = 'humidity_exterieur'\n",
        "\n",
        "\n",
        "\n",
        "X = df[features]\n",
        "y_temp = df[target_temp]\n",
        "y_humidity = df[target_humidity]\n",
        "\n",
        "\n",
        "\n",
        "X_train, X_test, y_temp_train, y_temp_test = train_test_split(X, y_temp, test_size=0.2, shuffle=False)\n",
        "X_train, X_test, y_humidity_train, y_humidity_test = train_test_split(X, y_humidity, test_size=0.2, shuffle=False)\n",
        "\n",
        "# Initialize and train the Random Forest Regressor\n",
        "rf_temp = RandomForestRegressor(n_estimators=100, random_state=42)\n",
        "rf_humidity = RandomForestRegressor(n_estimators=100, random_state=42)\n",
        "\n",
        "rf_temp.fit(X_train, y_temp_train)\n",
        "rf_humidity.fit(X_train, y_humidity_train)\n",
        "\n",
        "# Train SARIMA Model for Temperature\n",
        "sarima_temp = SARIMAX(df['temperature_exterieur'], order=(1, 1, 1), seasonal_order=(1, 1, 1, 7))\n",
        "sarima_temp_fitted = sarima_temp.fit(disp=False)\n",
        "\n",
        "# Train SARIMA Model for Humidity\n",
        "sarima_humidity = SARIMAX(df['humidity_exterieur'], order=(1, 1, 1), seasonal_order=(1, 1, 1, 7))\n",
        "sarima_humidity_fitted = sarima_humidity.fit(disp=False)\n"
      ],
      "metadata": {
        "colab": {
          "base_uri": "https://localhost:8080/"
        },
        "id": "Llt4A-YrdVUg",
        "outputId": "7c3bae2e-3e24-4869-d902-56b85c4282da"
      },
      "execution_count": 5,
      "outputs": [
        {
          "output_type": "stream",
          "name": "stderr",
          "text": [
            "/usr/local/lib/python3.10/dist-packages/statsmodels/tsa/base/tsa_model.py:473: ValueWarning: No frequency information was provided, so inferred frequency 15T will be used.\n",
            "  self._init_dates(dates, freq)\n",
            "/usr/local/lib/python3.10/dist-packages/statsmodels/tsa/base/tsa_model.py:473: ValueWarning: No frequency information was provided, so inferred frequency 15T will be used.\n",
            "  self._init_dates(dates, freq)\n",
            "/usr/local/lib/python3.10/dist-packages/statsmodels/tsa/base/tsa_model.py:473: ValueWarning: No frequency information was provided, so inferred frequency 15T will be used.\n",
            "  self._init_dates(dates, freq)\n",
            "/usr/local/lib/python3.10/dist-packages/statsmodels/tsa/base/tsa_model.py:473: ValueWarning: No frequency information was provided, so inferred frequency 15T will be used.\n",
            "  self._init_dates(dates, freq)\n"
          ]
        }
      ]
    },
    {
      "cell_type": "code",
      "source": [
        "# Evaluate the Random Forest model\n",
        "y_temp_pred = rf_temp.predict(X_test)\n",
        "y_humidity_pred = rf_humidity.predict(X_test)\n",
        "\n",
        "mae_temp = mean_absolute_error(y_temp_test, y_temp_pred)\n",
        "mse_temp = mean_squared_error(y_temp_test, y_temp_pred)\n",
        "mae_humidity = mean_absolute_error(y_humidity_test, y_humidity_pred)\n",
        "mse_humidity = mean_squared_error(y_humidity_test, y_humidity_pred)\n",
        "\n",
        "print(f\"Random Forest - Temperature MAE: {mae_temp:.2f}, MSE: {mse_temp:.2f}\")\n",
        "print(f\"Random Forest - Humidity MAE: {mae_humidity:.2f}, MSE: {mse_humidity:.2f}\")\n",
        "\n",
        "# Evaluate the SARIMA model\n",
        "sarima_temp_pred = sarima_temp_fitted.get_forecast(steps=len(X_test)).predicted_mean\n",
        "sarima_humidity_pred = sarima_humidity_fitted.get_forecast(steps=len(X_test)).predicted_mean\n",
        "\n",
        "mae_sarima_temp = mean_absolute_error(y_temp_test, sarima_temp_pred)\n",
        "mse_sarima_temp = mean_squared_error(y_temp_test, sarima_temp_pred)\n",
        "mae_sarima_humidity = mean_absolute_error(y_humidity_test, sarima_humidity_pred)\n",
        "mse_sarima_humidity = mean_squared_error(y_humidity_test, sarima_humidity_pred)\n",
        "\n",
        "print(f\"SARIMA - Temperature MAE: {mae_sarima_temp:.2f}, MSE: {mse_sarima_temp:.2f}\")\n",
        "print(f\"SARIMA - Humidity MAE: {mae_sarima_humidity:.2f}, MSE: {mse_sarima_humidity:.2f}\")\n"
      ],
      "metadata": {
        "id": "Ltpc7jLNdZCR",
        "colab": {
          "base_uri": "https://localhost:8080/"
        },
        "outputId": "217a2de3-8cdb-46d9-c609-054b1f386b3b"
      },
      "execution_count": 11,
      "outputs": [
        {
          "output_type": "stream",
          "name": "stdout",
          "text": [
            "Random Forest - Temperature MAE: 0.06, MSE: 0.01\n",
            "Random Forest - Humidity MAE: 0.34, MSE: 0.20\n",
            "SARIMA - Temperature MAE: 17.16, MSE: 309.06\n",
            "SARIMA - Humidity MAE: 38.43, MSE: 1613.50\n"
          ]
        }
      ]
    },
    {
      "cell_type": "code",
      "source": [
        "# Predict next day's temperature and humidity using Random Forest\n",
        "latest_data = df[features].iloc[-1].values.reshape(1, -1)\n",
        "\n",
        "next_day_temp_rf = rf_temp.predict(latest_data)\n",
        "next_day_humidity_rf = rf_humidity.predict(latest_data)\n",
        "\n",
        "print(f'Random Forest - Predicted Temperature for Next Day: {next_day_temp_rf[0]:.2f}')\n",
        "print(f'Random Forest - Predicted Humidity for Next Day: {next_day_humidity_rf[0]:.2f}')\n",
        "\n",
        "# Predict next day's temperature and humidity using SARIMA\n",
        "next_day_temp_sarima = sarima_temp_fitted.get_forecast(steps=1).predicted_mean\n",
        "next_day_humidity_sarima = sarima_humidity_fitted.get_forecast(steps=1).predicted_mean\n",
        "\n",
        "print(f'SARIMA - Predicted Temperature for Next Day: {next_day_temp_sarima.iloc[-1]:.2f}')\n",
        "print(f'SARIMA - Predicted Humidity for Next Day: {next_day_humidity_sarima.iloc[-1]:.2f}')\n"
      ],
      "metadata": {
        "id": "pNC3j1sPdeVX",
        "colab": {
          "base_uri": "https://localhost:8080/"
        },
        "outputId": "efc365dd-2592-4fbf-b180-ea55eeb33fa1"
      },
      "execution_count": 8,
      "outputs": [
        {
          "output_type": "stream",
          "name": "stdout",
          "text": [
            "Random Forest - Predicted Temperature for Next Day: 9.51\n",
            "Random Forest - Predicted Humidity for Next Day: 75.10\n",
            "SARIMA - Predicted Temperature for Next Day: 9.27\n",
            "SARIMA - Predicted Humidity for Next Day: 76.89\n"
          ]
        },
        {
          "output_type": "stream",
          "name": "stderr",
          "text": [
            "/usr/local/lib/python3.10/dist-packages/sklearn/base.py:465: UserWarning: X does not have valid feature names, but RandomForestRegressor was fitted with feature names\n",
            "  warnings.warn(\n",
            "/usr/local/lib/python3.10/dist-packages/sklearn/base.py:465: UserWarning: X does not have valid feature names, but RandomForestRegressor was fitted with feature names\n",
            "  warnings.warn(\n"
          ]
        }
      ]
    },
    {
      "cell_type": "markdown",
      "source": [
        "### **CODE FOR RF MODEL SAVING**"
      ],
      "metadata": {
        "id": "jfZZwX7Hx10l"
      }
    },
    {
      "cell_type": "code",
      "source": [
        "import joblib\n",
        "\n",
        "# Save the Random Forest models\n",
        "joblib.dump(rf_temp, 'rf_temp_model.pkl')\n",
        "joblib.dump(rf_humidity, 'rf_humidity_model.pkl')\n",
        "\n",
        "print(\"Models saved successfully.\")\n"
      ],
      "metadata": {
        "colab": {
          "base_uri": "https://localhost:8080/"
        },
        "id": "XY2PG_0swv1b",
        "outputId": "bce9ec2d-473c-464d-d195-568777c93651"
      },
      "execution_count": 12,
      "outputs": [
        {
          "output_type": "stream",
          "name": "stdout",
          "text": [
            "Models saved successfully.\n"
          ]
        }
      ]
    },
    {
      "cell_type": "markdown",
      "source": [
        "### **CODE FOR LOADING THE RF SAVED MODEL**"
      ],
      "metadata": {
        "id": "QZCkkZywyARo"
      }
    },
    {
      "cell_type": "code",
      "source": [
        "import joblib\n",
        "\n",
        "# Load the Random Forest models\n",
        "rf_temp = joblib.load('rf_temp_model.pkl')\n",
        "rf_humidity = joblib.load('rf_humidity_model.pkl')\n",
        "\n",
        "print(\"Models loaded successfully.\")\n"
      ],
      "metadata": {
        "id": "Bydrm656yG-y",
        "colab": {
          "base_uri": "https://localhost:8080/"
        },
        "outputId": "50f88339-2d65-4a02-9064-525470320ca2"
      },
      "execution_count": 10,
      "outputs": [
        {
          "output_type": "stream",
          "name": "stdout",
          "text": [
            "Models loaded successfully.\n"
          ]
        }
      ]
    }
  ]
}